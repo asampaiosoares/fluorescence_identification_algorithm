{
 "cells": [
  {
   "cell_type": "code",
   "execution_count": null,
   "id": "a52c2a19",
   "metadata": {},
   "outputs": [],
   "source": [
    "#reload_ext autoreload\n",
    "#autoreload\n",
    "#matplotlib inline"
   ]
  },
  {
   "cell_type": "code",
   "execution_count": 3,
   "id": "b9b104a9",
   "metadata": {},
   "outputs": [],
   "source": [
    "import pathlib\n",
    "plt = platform.system()\n",
    "if plt == 'Linux': pathlib.WindowsPath = pathlib.PosixPath"
   ]
  },
  {
   "cell_type": "code",
   "execution_count": 4,
   "id": "93367d7f",
   "metadata": {},
   "outputs": [],
   "source": [
    "DATASET_PATH = Path(r\"C:\\Users\\anton\\Desktop\\ML\\fluorescence_id\")"
   ]
  },
  {
   "cell_type": "code",
   "execution_count": 5,
   "id": "ad07ad8f",
   "metadata": {},
   "outputs": [
    {
     "name": "stdout",
     "output_type": "stream",
     "text": [
      "Due to IPython and Windows limitation, python multiprocessing isn't available now.\n",
      "So `number_workers` is changed to 0 to avoid getting stuck\n"
     ]
    },
    {
     "name": "stderr",
     "output_type": "stream",
     "text": [
      "C:\\Users\\anton\\miniconda3\\lib\\site-packages\\torch\\_tensor.py:1023: UserWarning: torch.solve is deprecated in favor of torch.linalg.solveand will be removed in a future PyTorch release.\n",
      "torch.linalg.solve has its arguments reversed and does not return the LU factorization.\n",
      "To get the LU factorization see torch.lu, which can be used with torch.lu_solve or torch.lu_unpack.\n",
      "X = torch.solve(B, A).solution\n",
      "should be replaced with\n",
      "X = torch.linalg.solve(A, B) (Triggered internally at  ..\\aten\\src\\ATen\\native\\BatchLinearAlgebra.cpp:760.)\n",
      "  ret = func(*args, **kwargs)\n"
     ]
    }
   ],
   "source": [
    "# Transformations are applied only on training dataset\n",
    "mask_datablock = DataBlock(\n",
    "    blocks=(ImageBlock, CategoryBlock), \n",
    "    get_items=get_image_files, \n",
    "    splitter=RandomSplitter(valid_pct=0.2, seed=100),\n",
    "    get_y=parent_label,\n",
    "    item_tfms=RandomResizedCrop(224, min_scale=0.3),\n",
    "    batch_tfms=aug_transforms(mult=2)\n",
    ")\n",
    "\n",
    "dls = mask_datablock.dataloaders(DATASET_PATH)\n",
    "# dls.train.show_batch(max_n=4, nrows=1, unique=True)"
   ]
  },
  {
   "cell_type": "code",
   "execution_count": 6,
   "id": "1998957b",
   "metadata": {},
   "outputs": [
    {
     "name": "stderr",
     "output_type": "stream",
     "text": [
      "C:\\Users\\anton\\miniconda3\\lib\\site-packages\\torch\\nn\\functional.py:718: UserWarning: Named tensors and all their associated APIs are an experimental feature and subject to change. Please do not use them for anything important until they are released as stable. (Triggered internally at  ..\\c10/core/TensorImpl.h:1156.)\n",
      "  return torch.max_pool2d(input, kernel_size, stride, padding, dilation, ceil_mode)\n"
     ]
    }
   ],
   "source": [
    "learn = cnn_learner(dls, resnet34, metrics=error_rate)"
   ]
  },
  {
   "cell_type": "code",
   "execution_count": 7,
   "id": "cb163903",
   "metadata": {
    "scrolled": true
   },
   "outputs": [
    {
     "data": {
      "text/html": [
       "<table border=\"1\" class=\"dataframe\">\n",
       "  <thead>\n",
       "    <tr style=\"text-align: left;\">\n",
       "      <th>epoch</th>\n",
       "      <th>train_loss</th>\n",
       "      <th>valid_loss</th>\n",
       "      <th>error_rate</th>\n",
       "      <th>time</th>\n",
       "    </tr>\n",
       "  </thead>\n",
       "  <tbody>\n",
       "    <tr>\n",
       "      <td>0</td>\n",
       "      <td>0.892767</td>\n",
       "      <td>0.084648</td>\n",
       "      <td>0.019553</td>\n",
       "      <td>04:01</td>\n",
       "    </tr>\n",
       "  </tbody>\n",
       "</table>"
      ],
      "text/plain": [
       "<IPython.core.display.HTML object>"
      ]
     },
     "metadata": {},
     "output_type": "display_data"
    },
    {
     "data": {
      "text/html": [
       "<table border=\"1\" class=\"dataframe\">\n",
       "  <thead>\n",
       "    <tr style=\"text-align: left;\">\n",
       "      <th>epoch</th>\n",
       "      <th>train_loss</th>\n",
       "      <th>valid_loss</th>\n",
       "      <th>error_rate</th>\n",
       "      <th>time</th>\n",
       "    </tr>\n",
       "  </thead>\n",
       "  <tbody>\n",
       "    <tr>\n",
       "      <td>0</td>\n",
       "      <td>0.294334</td>\n",
       "      <td>0.492532</td>\n",
       "      <td>0.153631</td>\n",
       "      <td>04:09</td>\n",
       "    </tr>\n",
       "    <tr>\n",
       "      <td>1</td>\n",
       "      <td>0.143563</td>\n",
       "      <td>0.032382</td>\n",
       "      <td>0.002793</td>\n",
       "      <td>04:30</td>\n",
       "    </tr>\n",
       "    <tr>\n",
       "      <td>2</td>\n",
       "      <td>0.086199</td>\n",
       "      <td>0.001902</td>\n",
       "      <td>0.000000</td>\n",
       "      <td>04:05</td>\n",
       "    </tr>\n",
       "    <tr>\n",
       "      <td>3</td>\n",
       "      <td>0.051965</td>\n",
       "      <td>0.004237</td>\n",
       "      <td>0.002793</td>\n",
       "      <td>04:41</td>\n",
       "    </tr>\n",
       "  </tbody>\n",
       "</table>"
      ],
      "text/plain": [
       "<IPython.core.display.HTML object>"
      ]
     },
     "metadata": {},
     "output_type": "display_data"
    }
   ],
   "source": [
    "#learn.fine_tune(4, base_lr=10**-3)\n",
    "learn.fine_tune(4)"
   ]
  },
  {
   "cell_type": "code",
   "execution_count": null,
   "id": "fd3afd03",
   "metadata": {},
   "outputs": [],
   "source": [
    "lr_min,lr_steep = learn.lr_find()\n",
    "print(f\"Minimum/10: {lr_min:.2e}, steepest point: {lr_steep:.2e}\")"
   ]
  },
  {
   "cell_type": "code",
   "execution_count": 8,
   "id": "25f79ffb",
   "metadata": {},
   "outputs": [
    {
     "data": {
      "text/html": [],
      "text/plain": [
       "<IPython.core.display.HTML object>"
      ]
     },
     "metadata": {},
     "output_type": "display_data"
    },
    {
     "data": {
      "image/png": "[encoded data removed]",
      "text/plain": [
       "<Figure size 432x288 with 1 Axes>"
      ]
     },
     "metadata": {
      "needs_background": "light"
     },
     "output_type": "display_data"
    }
   ],
   "source": [
    "interp = ClassificationInterpretation.from_learner(learn)\n",
    "interp.plot_confusion_matrix()"
   ]
  },
  {
   "cell_type": "code",
   "execution_count": null,
   "id": "264b0ca0",
   "metadata": {},
   "outputs": [],
   "source": [
    "interp.plot_top_losses(10, nrows=10)"
   ]
  },
  {
   "cell_type": "code",
   "execution_count": 9,
   "id": "808fcccf",
   "metadata": {},
   "outputs": [],
   "source": [
    "# Uncomment to export the model\n",
    "\n",
    "import pathlib\n",
    "plt = platform.system()\n",
    "if plt == 'Linux': pathlib.WindowsPath = pathlib.PosixPath\n",
    "    \n",
    "learn.export()"
   ]
  },
  {
   "cell_type": "code",
   "execution_count": null,
   "id": "b31cbaa9",
   "metadata": {},
   "outputs": [],
   "source": [
    "learn.save('first')"
   ]
  },
  {
   "cell_type": "code",
   "execution_count": null,
   "id": "4065bc0b",
   "metadata": {
    "scrolled": true
   },
   "outputs": [],
   "source": [
    "# GRADIO DEMO\n",
    "\n",
    "# from fastgradio import Demo\n",
    "\n",
    "# Demo(learn).launch(interpretation = \"default\", title=\"Fluorescence identification\")"
   ]
  },
  {
   "cell_type": "code",
   "execution_count": null,
   "id": "de8f43ad",
   "metadata": {},
   "outputs": [],
   "source": [
    "# Gradio web app\n",
    "\n",
    "# fluo_id_web = gr.Interface(fn = \"learn\",\n",
    "#                           inputs = \"image\",\n",
    "#                           outputs= \"text\", \n",
    "#                           interpretation = \"default\",\n",
    "#                           title=\"Fluorescence identification\")"
   ]
  },
  {
   "cell_type": "code",
   "execution_count": null,
   "id": "f1095457",
   "metadata": {},
   "outputs": [],
   "source": []
  }
 ],
 "metadata": {
  "kernelspec": {
   "display_name": "Python 3 (ipykernel)",
   "language": "python",
   "name": "python3"
  },
  "language_info": {
   "codemirror_mode": {
    "name": "ipython",
    "version": 3
   },
   "file_extension": ".py",
   "mimetype": "text/x-python",
   "name": "python",
   "nbconvert_exporter": "python",
   "pygments_lexer": "ipython3",
   "version": "3.9.7"
  }
 },
 "nbformat": 4,
 "nbformat_minor": 5
}
