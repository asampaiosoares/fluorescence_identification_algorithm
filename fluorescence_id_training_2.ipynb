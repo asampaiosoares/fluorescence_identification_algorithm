{
 "cells": [
  {
   "cell_type": "code",
   "execution_count": null,
   "id": "b9b104a9",
   "metadata": {},
   "outputs": [],
   "source": [
    "# To deploy algorithm on Windows\n",
    "import pathlib\n",
    "plt = platform.system()\n",
    "if plt == 'Linux': pathlib.WindowsPath = pathlib.PosixPath"
   ]
  },
  {
   "cell_type": "code",
   "execution_count": null,
   "id": "93367d7f",
   "metadata": {},
   "outputs": [],
   "source": [
    "# Path to the dataset\n",
    "DATASET_PATH = Path(r\"C:\\Users\\anton\\Desktop\\ML\\fluorescence_id\")"
   ]
  },
  {
   "cell_type": "code",
   "execution_count": null,
   "id": "ad07ad8f",
   "metadata": {},
   "outputs": [],
   "source": [
    "# Dataset loading \n",
    "\n",
    "# Transformations are applied only on training dataset\n",
    "mask_datablock = DataBlock(\n",
    "    blocks=(ImageBlock, CategoryBlock), \n",
    "    get_items=get_image_files, \n",
    "    splitter=RandomSplitter(valid_pct=0.2, seed=100),\n",
    "    get_y=parent_label,\n",
    "    item_tfms=RandomResizedCrop(224, min_scale=0.3),\n",
    "    batch_tfms=aug_transforms(mult=2)\n",
    ")\n",
    "\n",
    "dls = mask_datablock.dataloaders(DATASET_PATH)\n",
    "# dls.train.show_batch(max_n=4, nrows=1, unique=True)"
   ]
  },
  {
   "cell_type": "code",
   "execution_count": null,
   "id": "1998957b",
   "metadata": {},
   "outputs": [],
   "source": [
    "# Algorithm training\n",
    "learn = cnn_learner(dls, resnet34, metrics=error_rate)"
   ]
  },
  {
   "cell_type": "code",
   "execution_count": null,
   "id": "cb163903",
   "metadata": {
    "scrolled": true
   },
   "outputs": [],
   "source": [
    "# Uncomment to use a learning rate optimiser\n",
    "# lr_min,lr_steep = learn.lr_find()\n",
    "# print(f\"Minimum/10: {lr_min:.2e}, steepest point: {lr_steep:.2e}\")\n",
    "\n",
    "# learn.fine_tune(4, base_lr=10**-3)"
   ]
  },
  {
   "cell_type": "code",
   "execution_count": null,
   "id": "fd3afd03",
   "metadata": {},
   "outputs": [],
   "source": [
    "# Algorithm fine tuning (number of epochs)\n",
    "learn.fine_tune(4)"
   ]
  },
  {
   "cell_type": "code",
   "execution_count": null,
   "id": "25f79ffb",
   "metadata": {},
   "outputs": [],
   "source": [
    "# Outputs the algorithm's confusion matrix \n",
    "interp = ClassificationInterpretation.from_learner(learn)\n",
    "interp.plot_confusion_matrix()"
   ]
  },
  {
   "cell_type": "code",
   "execution_count": null,
   "id": "264b0ca0",
   "metadata": {},
   "outputs": [],
   "source": [
    "# Outputs the model's top losses\n",
    "interp.plot_top_losses(10, nrows=10)"
   ]
  },
  {
   "cell_type": "code",
   "execution_count": null,
   "id": "808fcccf",
   "metadata": {},
   "outputs": [],
   "source": [
    "# Algorithm export\n",
    "\n",
    "import pathlib\n",
    "plt = platform.system()\n",
    "if plt == 'Linux': pathlib.WindowsPath = pathlib.PosixPath\n",
    "    \n",
    "learn.export()"
   ]
  },
  {
   "cell_type": "code",
   "execution_count": null,
   "id": "b31cbaa9",
   "metadata": {},
   "outputs": [],
   "source": [
    "learn.save('first')"
   ]
  }
 ],
 "metadata": {
  "kernelspec": {
   "display_name": "Python 3 (ipykernel)",
   "language": "python",
   "name": "python3"
  },
  "language_info": {
   "codemirror_mode": {
    "name": "ipython",
    "version": 3
   },
   "file_extension": ".py",
   "mimetype": "text/x-python",
   "name": "python",
   "nbconvert_exporter": "python",
   "pygments_lexer": "ipython3",
   "version": "3.9.7"
  }
 },
 "nbformat": 4,
 "nbformat_minor": 5
}
